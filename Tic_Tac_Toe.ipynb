{
  "nbformat": 4,
  "nbformat_minor": 0,
  "metadata": {
    "colab": {
      "name": "Tic Tac Toe.ipynb",
      "provenance": [],
      "authorship_tag": "ABX9TyOL6YNGFFbotv3eixqB2mFM",
      "include_colab_link": true
    },
    "kernelspec": {
      "name": "python3",
      "display_name": "Python 3"
    }
  },
  "cells": [
    {
      "cell_type": "markdown",
      "metadata": {
        "id": "view-in-github",
        "colab_type": "text"
      },
      "source": [
        "<a href=\"https://colab.research.google.com/github/Sudipta-Das22/demo/blob/master/Tic_Tac_Toe.ipynb\" target=\"_parent\"><img src=\"https://colab.research.google.com/assets/colab-badge.svg\" alt=\"Open In Colab\"/></a>"
      ]
    },
    {
      "cell_type": "code",
      "metadata": {
        "id": "9i7lD5DIwHyJ",
        "colab_type": "code",
        "colab": {}
      },
      "source": [
        "from IPython.display import clear_output\n",
        "\n",
        "def display_board(board):\n",
        "  clear_output\n",
        "  print('   |   |')\n",
        "  print (' '+ board[7]+' | '+board[8]+' | '+board[9])\n",
        "  print('   |   |')\n",
        "  print('------------')\n",
        "  print('   |   |')\n",
        "  print (' '+board[4]+' | '+board[5]+' | '+board[6])\n",
        "  print('   |   |')\n",
        "  print('------------')\n",
        "  print('   |   |')\n",
        "  print (' '+board[1]+' | '+board[2]+' | '+board[3])\n",
        "  print('   |   |')\n"
      ],
      "execution_count": 22,
      "outputs": []
    },
    {
      "cell_type": "code",
      "metadata": {
        "id": "jKX5pNM2GoRH",
        "colab_type": "code",
        "colab": {
          "base_uri": "https://localhost:8080/",
          "height": 223
        },
        "outputId": "abcd3063-ae9b-4177-9d4c-cb2b986fdebf"
      },
      "source": [
        "test_board = [' ']*10\n",
        "display_board(test_board)"
      ],
      "execution_count": 23,
      "outputs": [
        {
          "output_type": "stream",
          "text": [
            "   |   |\n",
            "   |   |  \n",
            "   |   |\n",
            "------------\n",
            "   |   |\n",
            "   |   |  \n",
            "   |   |\n",
            "------------\n",
            "   |   |\n",
            "   |   |  \n",
            "   |   |\n"
          ],
          "name": "stdout"
        }
      ]
    },
    {
      "cell_type": "code",
      "metadata": {
        "id": "Cl2y6AY1Hviq",
        "colab_type": "code",
        "colab": {}
      },
      "source": [
        "def player_input():\n",
        "  marker = ''\n",
        "\n",
        "  while marker != 'X' and marker !='O':\n",
        "    marker = input('Palyer 1: Choose X or O : ').upper()\n",
        "  if marker == 'X':\n",
        "    return ('X','O')\n",
        "  else:\n",
        "    return ('O','X')"
      ],
      "execution_count": 24,
      "outputs": []
    },
    {
      "cell_type": "code",
      "metadata": {
        "id": "EdICMuMnLtYO",
        "colab_type": "code",
        "colab": {
          "base_uri": "https://localhost:8080/",
          "height": 73
        },
        "outputId": "64887b1f-4f5c-4b46-87f0-4886233d69e5"
      },
      "source": [
        "player1_marker, player2_marker = player_input()"
      ],
      "execution_count": 25,
      "outputs": [
        {
          "output_type": "stream",
          "text": [
            "Palyer 1: Choose X or O : w\n",
            "Palyer 1: Choose X or O : e\n",
            "Palyer 1: Choose X or O : X\n"
          ],
          "name": "stdout"
        }
      ]
    },
    {
      "cell_type": "code",
      "metadata": {
        "id": "gk7_w9MqL-r9",
        "colab_type": "code",
        "colab": {}
      },
      "source": [
        "def place_marker(board,marker,position):\n",
        "  board[position]=marker"
      ],
      "execution_count": 28,
      "outputs": []
    },
    {
      "cell_type": "code",
      "metadata": {
        "id": "0qqMN3VVM0ZI",
        "colab_type": "code",
        "colab": {
          "base_uri": "https://localhost:8080/",
          "height": 223
        },
        "outputId": "e62141ff-ae19-4ff5-f305-c6eafdb38fba"
      },
      "source": [
        "place_marker(test_board,'X',8)\n",
        "display_board(test_board)"
      ],
      "execution_count": 31,
      "outputs": [
        {
          "output_type": "stream",
          "text": [
            "   |   |\n",
            "   | X |  \n",
            "   |   |\n",
            "------------\n",
            "   |   |\n",
            "   |   |  \n",
            "   |   |\n",
            "------------\n",
            "   |   |\n",
            "   |   |  \n",
            "   |   |\n"
          ],
          "name": "stdout"
        }
      ]
    },
    {
      "cell_type": "code",
      "metadata": {
        "id": "zavvXZqeNL_m",
        "colab_type": "code",
        "colab": {}
      },
      "source": [
        "def win_check(board,marker):\n",
        "  #check rows, if they have same marker\n",
        "  #check columns, if they have same marker\n",
        "  #check diagonals, if they have same marker\n",
        "  return((board[7] == marker and board[8] == marker and board[8] == marker)or\n",
        "         (board[4] == marker and board[5] == marker and board[6] == marker)or\n",
        "         (board[3] == marker and board[2] == marker and board[1] == marker)or \n",
        "         (board[7] == marker and board[4] == marker and board[1] == marker)or\n",
        "         (board[8] == marker and board[5] == marker and board[2] == marker)or\n",
        "         (board[9] == marker and board[6] == marker and board[3] == marker)or\n",
        "         (board[7] == marker and board[5] == marker and board[3] == marker)or\n",
        "         (board[9] == marker and board[5] == marker and board[1] == marker))\n"
      ],
      "execution_count": 32,
      "outputs": []
    },
    {
      "cell_type": "code",
      "metadata": {
        "id": "1yyO1oLTQw_t",
        "colab_type": "code",
        "colab": {}
      },
      "source": [
        "import random\n",
        "def choose_first():\n",
        "  flip = random.randint(0,1)\n",
        "  if flip == 0:\n",
        "    return 'Player 1'\n",
        "  else:\n",
        "    return 'Player 2'"
      ],
      "execution_count": 33,
      "outputs": []
    },
    {
      "cell_type": "code",
      "metadata": {
        "id": "KYuIvsMeRRW8",
        "colab_type": "code",
        "colab": {}
      },
      "source": [
        "def space_check(board,position):\n",
        "  return board[postion]==' '"
      ],
      "execution_count": 34,
      "outputs": []
    },
    {
      "cell_type": "code",
      "metadata": {
        "id": "TavVpqRIRkpn",
        "colab_type": "code",
        "colab": {}
      },
      "source": [
        "def full_board_check(board):\n",
        "  for i in range(1,10):\n",
        "    if space_check(board,i):\n",
        "      return False\n",
        "  return True"
      ],
      "execution_count": 36,
      "outputs": []
    },
    {
      "cell_type": "code",
      "metadata": {
        "id": "gYzdMJyYShz7",
        "colab_type": "code",
        "colab": {}
      },
      "source": [
        "def player_choice(board):\n",
        "  position = 0\n",
        "  while position not in [1,2,3,4,5,6,7,8,9] or not space_check(board,position):\n",
        "    position = int(input('Choose a position :(1-9)'))\n",
        "  return position"
      ],
      "execution_count": 38,
      "outputs": []
    },
    {
      "cell_type": "code",
      "metadata": {
        "id": "XdXdMkD4TjCj",
        "colab_type": "code",
        "colab": {}
      },
      "source": [
        "def replay():\n",
        "  choice = input(\"Play again? Enter Yes or No\")\n",
        "  return choice =='Yes'"
      ],
      "execution_count": 39,
      "outputs": []
    }
  ]
}