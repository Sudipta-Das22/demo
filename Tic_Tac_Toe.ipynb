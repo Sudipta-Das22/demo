{
  "nbformat": 4,
  "nbformat_minor": 0,
  "metadata": {
    "colab": {
      "name": "Tic Tac Toe.ipynb",
      "provenance": [],
      "authorship_tag": "ABX9TyOP6B5sDk4ahVXDZF+ZBrXk",
      "include_colab_link": true
    },
    "kernelspec": {
      "name": "python3",
      "display_name": "Python 3"
    }
  },
  "cells": [
    {
      "cell_type": "markdown",
      "metadata": {
        "id": "view-in-github",
        "colab_type": "text"
      },
      "source": [
        "<a href=\"https://colab.research.google.com/github/Sudipta-Das22/demo/blob/master/Tic_Tac_Toe.ipynb\" target=\"_parent\"><img src=\"https://colab.research.google.com/assets/colab-badge.svg\" alt=\"Open In Colab\"/></a>"
      ]
    },
    {
      "cell_type": "code",
      "metadata": {
        "id": "9i7lD5DIwHyJ",
        "colab_type": "code",
        "colab": {}
      },
      "source": [
        "from IPython.display import clear_output\n",
        "\n",
        "def display_board(board):\n",
        "  clear_output\n",
        "  print('   |   |')\n",
        "  print (' '+ board[7]+' | '+board[8]+' | '+board[9])\n",
        "  print('   |   |')\n",
        "  print('------------')\n",
        "  print('   |   |')\n",
        "  print (' '+board[4]+' | '+board[5]+' | '+board[6])\n",
        "  print('   |   |')\n",
        "  print('------------')\n",
        "  print('   |   |')\n",
        "  print (' '+board[1]+' | '+board[2]+' | '+board[3])\n",
        "  print('   |   |')\n"
      ],
      "execution_count": 1,
      "outputs": []
    },
    {
      "cell_type": "code",
      "metadata": {
        "id": "jKX5pNM2GoRH",
        "colab_type": "code",
        "colab": {
          "base_uri": "https://localhost:8080/",
          "height": 223
        },
        "outputId": "70e8abf7-dda0-4558-f447-3320719fe449"
      },
      "source": [
        "test_board = [' ']*10\n",
        "display_board(test_board)"
      ],
      "execution_count": 2,
      "outputs": [
        {
          "output_type": "stream",
          "text": [
            "   |   |\n",
            "   |   |  \n",
            "   |   |\n",
            "------------\n",
            "   |   |\n",
            "   |   |  \n",
            "   |   |\n",
            "------------\n",
            "   |   |\n",
            "   |   |  \n",
            "   |   |\n"
          ],
          "name": "stdout"
        }
      ]
    },
    {
      "cell_type": "code",
      "metadata": {
        "id": "Cl2y6AY1Hviq",
        "colab_type": "code",
        "colab": {}
      },
      "source": [
        "def player_input():\n",
        "  marker = ''\n",
        "\n",
        "  while marker != 'X' and marker !='O':\n",
        "    marker = input('Palyer 1: Choose X or O : ').upper()\n",
        "  if marker == 'X':\n",
        "    return ('X','O')\n",
        "  else:\n",
        "    return ('O','X')"
      ],
      "execution_count": 3,
      "outputs": []
    },
    {
      "cell_type": "code",
      "metadata": {
        "id": "EdICMuMnLtYO",
        "colab_type": "code",
        "colab": {
          "base_uri": "https://localhost:8080/",
          "height": 36
        },
        "outputId": "94094845-379c-4459-b0a6-526563551ef0"
      },
      "source": [
        "player1_marker, player2_marker = player_input()"
      ],
      "execution_count": 4,
      "outputs": [
        {
          "output_type": "stream",
          "text": [
            "Palyer 1: Choose X or O : X\n"
          ],
          "name": "stdout"
        }
      ]
    },
    {
      "cell_type": "code",
      "metadata": {
        "id": "gk7_w9MqL-r9",
        "colab_type": "code",
        "colab": {}
      },
      "source": [
        "def place_marker(board,marker,position):\n",
        "  board[position]=marker"
      ],
      "execution_count": 5,
      "outputs": []
    },
    {
      "cell_type": "code",
      "metadata": {
        "id": "0qqMN3VVM0ZI",
        "colab_type": "code",
        "colab": {
          "base_uri": "https://localhost:8080/",
          "height": 223
        },
        "outputId": "d640e35d-1964-4cbe-a0d2-263c3ae75b9b"
      },
      "source": [
        "place_marker(test_board,'X',8)\n",
        "display_board(test_board)"
      ],
      "execution_count": 6,
      "outputs": [
        {
          "output_type": "stream",
          "text": [
            "   |   |\n",
            "   | X |  \n",
            "   |   |\n",
            "------------\n",
            "   |   |\n",
            "   |   |  \n",
            "   |   |\n",
            "------------\n",
            "   |   |\n",
            "   |   |  \n",
            "   |   |\n"
          ],
          "name": "stdout"
        }
      ]
    },
    {
      "cell_type": "code",
      "metadata": {
        "id": "zavvXZqeNL_m",
        "colab_type": "code",
        "colab": {}
      },
      "source": [
        "def win_check(board,marker):\n",
        "  #check rows, if they have same marker\n",
        "  #check columns, if they have same marker\n",
        "  #check diagonals, if they have same marker\n",
        "  return((board[7] == marker and board[8] == marker and board[8] == marker)or\n",
        "         (board[4] == marker and board[5] == marker and board[6] == marker)or\n",
        "         (board[3] == marker and board[2] == marker and board[1] == marker)or \n",
        "         (board[7] == marker and board[4] == marker and board[1] == marker)or\n",
        "         (board[8] == marker and board[5] == marker and board[2] == marker)or\n",
        "         (board[9] == marker and board[6] == marker and board[3] == marker)or\n",
        "         (board[7] == marker and board[5] == marker and board[3] == marker)or\n",
        "         (board[9] == marker and board[5] == marker and board[1] == marker))\n"
      ],
      "execution_count": 7,
      "outputs": []
    },
    {
      "cell_type": "code",
      "metadata": {
        "id": "1yyO1oLTQw_t",
        "colab_type": "code",
        "colab": {}
      },
      "source": [
        "import random\n",
        "def choose_first():\n",
        "  flip = random.randint(0,1)\n",
        "  if flip == 0:\n",
        "    return 'Player 1'\n",
        "  else:\n",
        "    return 'Player 2'"
      ],
      "execution_count": 8,
      "outputs": []
    },
    {
      "cell_type": "code",
      "metadata": {
        "id": "KYuIvsMeRRW8",
        "colab_type": "code",
        "colab": {}
      },
      "source": [
        "def space_check(board,position):\n",
        "  return board[position]==' '"
      ],
      "execution_count": 9,
      "outputs": []
    },
    {
      "cell_type": "code",
      "metadata": {
        "id": "TavVpqRIRkpn",
        "colab_type": "code",
        "colab": {}
      },
      "source": [
        "def full_board_check(board):\n",
        "  for i in range(1,10):\n",
        "    if space_check(board,i):\n",
        "      return False\n",
        "  return True"
      ],
      "execution_count": 10,
      "outputs": []
    },
    {
      "cell_type": "code",
      "metadata": {
        "id": "gYzdMJyYShz7",
        "colab_type": "code",
        "colab": {}
      },
      "source": [
        "def player_choice(board):\n",
        "  position = 0\n",
        "  while position not in [1,2,3,4,5,6,7,8,9] or not space_check(board,position):\n",
        "    position = int(input('Choose a position :(1-9)'))\n",
        "  return position"
      ],
      "execution_count": 11,
      "outputs": []
    },
    {
      "cell_type": "code",
      "metadata": {
        "id": "XdXdMkD4TjCj",
        "colab_type": "code",
        "colab": {}
      },
      "source": [
        "def replay():\n",
        "  choice = input(\"Play again? Enter Yes or No\")\n",
        "  return choice =='Yes'"
      ],
      "execution_count": 12,
      "outputs": []
    },
    {
      "cell_type": "code",
      "metadata": {
        "id": "i8NJ4uujVy1E",
        "colab_type": "code",
        "colab": {
          "base_uri": "https://localhost:8080/",
          "height": 1000
        },
        "outputId": "84c196ce-16fc-4196-f2e3-3b05aaa99ade"
      },
      "source": [
        "print('Welcome to Tic Tac Toe')\n",
        "\n",
        "while True:\n",
        "  the_board = [' ']*10\n",
        "  player1_marker, player2_marker = player_input()\n",
        "  turn = choose_first()\n",
        "  print (turn + ' will go first')\n",
        "  play_game = input('Ready to Play : Y/N ?')\n",
        "  if play_game == 'Y':\n",
        "    game_on = True\n",
        "  else:\n",
        "    game_on = False\n",
        "  while game_on:\n",
        "    if turn == 'Player 1':\n",
        "      display_board(the_board)\n",
        "      position = player_choice(the_board)\n",
        "      place_marker(the_board,player1_marker,position)\n",
        "\n",
        "      if win_check(the_board,player1_marker):\n",
        "        display_board(the_board)\n",
        "        print('Player 1 has won !!')\n",
        "        game_on = False\n",
        "      else:\n",
        "        if full_board_check(the_board):\n",
        "          display_board(the_board)\n",
        "          print('Tie Game!!')\n",
        "          game_on = False\n",
        "        else:\n",
        "          turn = 'Player 2'\n",
        "    else:\n",
        "      display_board(the_board)\n",
        "      position = player_choice(the_board)\n",
        "      place_marker(the_board,player2_marker,position)\n",
        "\n",
        "      if win_check(the_board,player2_marker):\n",
        "        display_board(the_board)\n",
        "        print('Player 2 has won !!')\n",
        "        game_on = False\n",
        "      else:\n",
        "        if full_board_check(the_board):\n",
        "          display_board(the_board)\n",
        "          print('Tie Game!!')\n",
        "          game_on = False\n",
        "        else:\n",
        "          turn = 'Player 1'\n",
        "\n",
        "  if not replay():\n",
        "    break\n",
        "\n"
      ],
      "execution_count": 13,
      "outputs": [
        {
          "output_type": "stream",
          "text": [
            "Welcome to Tic Tac Toe\n",
            "Palyer 1: Choose X or O : X\n",
            "Player 1 will go first\n",
            "Ready to Play : Y/N ?Y\n",
            "   |   |\n",
            "   |   |  \n",
            "   |   |\n",
            "------------\n",
            "   |   |\n",
            "   |   |  \n",
            "   |   |\n",
            "------------\n",
            "   |   |\n",
            "   |   |  \n",
            "   |   |\n",
            "Choose a position :(1-9)1\n",
            "   |   |\n",
            "   |   |  \n",
            "   |   |\n",
            "------------\n",
            "   |   |\n",
            "   |   |  \n",
            "   |   |\n",
            "------------\n",
            "   |   |\n",
            " X |   |  \n",
            "   |   |\n",
            "Choose a position :(1-9)2\n",
            "   |   |\n",
            "   |   |  \n",
            "   |   |\n",
            "------------\n",
            "   |   |\n",
            "   |   |  \n",
            "   |   |\n",
            "------------\n",
            "   |   |\n",
            " X | O |  \n",
            "   |   |\n",
            "Choose a position :(1-9)3\n",
            "   |   |\n",
            "   |   |  \n",
            "   |   |\n",
            "------------\n",
            "   |   |\n",
            "   |   |  \n",
            "   |   |\n",
            "------------\n",
            "   |   |\n",
            " X | O | X\n",
            "   |   |\n",
            "Choose a position :(1-9)4\n",
            "   |   |\n",
            "   |   |  \n",
            "   |   |\n",
            "------------\n",
            "   |   |\n",
            " O |   |  \n",
            "   |   |\n",
            "------------\n",
            "   |   |\n",
            " X | O | X\n",
            "   |   |\n",
            "Choose a position :(1-9)5\n",
            "   |   |\n",
            "   |   |  \n",
            "   |   |\n",
            "------------\n",
            "   |   |\n",
            " O | X |  \n",
            "   |   |\n",
            "------------\n",
            "   |   |\n",
            " X | O | X\n",
            "   |   |\n",
            "Choose a position :(1-9)7\n",
            "   |   |\n",
            " O |   |  \n",
            "   |   |\n",
            "------------\n",
            "   |   |\n",
            " O | X |  \n",
            "   |   |\n",
            "------------\n",
            "   |   |\n",
            " X | O | X\n",
            "   |   |\n",
            "Choose a position :(1-9)8\n",
            "   |   |\n",
            " O | X |  \n",
            "   |   |\n",
            "------------\n",
            "   |   |\n",
            " O | X |  \n",
            "   |   |\n",
            "------------\n",
            "   |   |\n",
            " X | O | X\n",
            "   |   |\n",
            "Choose a position :(1-9)9\n",
            "   |   |\n",
            " O | X | O\n",
            "   |   |\n",
            "------------\n",
            "   |   |\n",
            " O | X |  \n",
            "   |   |\n",
            "------------\n",
            "   |   |\n",
            " X | O | X\n",
            "   |   |\n",
            "Choose a position :(1-9)6\n",
            "   |   |\n",
            " O | X | O\n",
            "   |   |\n",
            "------------\n",
            "   |   |\n",
            " O | X | X\n",
            "   |   |\n",
            "------------\n",
            "   |   |\n",
            " X | O | X\n",
            "   |   |\n",
            "Tie Game!!\n",
            "Play again? Enter Yes or NoNo\n"
          ],
          "name": "stdout"
        }
      ]
    }
  ]
}